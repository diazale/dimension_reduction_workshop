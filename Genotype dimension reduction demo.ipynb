{
 "cells": [
  {
   "cell_type": "markdown",
   "metadata": {},
   "source": [
    "# Dimension reduction of genotype data\n",
    "\n",
    "This notebook is intended to explore population structure through dimension reduction of genotype data from the Thousand Genomes Project (1KGP). Data is available here:\n",
    "\n",
    "* http://ftp.1000genomes.ebi.ac.uk/vol1/ftp/release/20130502/supporting/hd_genotype_chip/\n",
    "* http://ftp.1000genomes.ebi.ac.uk/vol1/ftp/phase3/\n",
    "\n",
    "We will use chromosome 22 derived from the following files:\n",
    "* ALL.wgs.nhgri_coriell_affy_6.20140825.genotypes_has_ped.vcf.gz\n",
    "* affy_samples.20141118.panel\n",
    "* 20131219.populations.tsv\n",
    "\n",
    "This code was written by Alex Diaz-Papkovich and Simon Gravel."
   ]
  },
  {
   "cell_type": "code",
   "execution_count": 1,
   "metadata": {},
   "outputs": [],
   "source": [
    "# Import libraries. \n",
    "# Generate images in the notebook\n",
    "%matplotlib inline\n",
    "\n",
    "import matplotlib.pyplot as plt\n",
    "import collections\n",
    "from collections import defaultdict\n",
    "import gzip\n",
    "#import itertools\n",
    "import numpy as np\n",
    "import os\n",
    "import time\n",
    "\n",
    "# Dimension reduction tools\n",
    "from sklearn.decomposition import PCA as PCA\n",
    "from sklearn.manifold import TSNE\n",
    "import umap "
   ]
  },
  {
   "cell_type": "markdown",
   "metadata": {},
   "source": [
    "First set up our files."
   ]
  },
  {
   "cell_type": "code",
   "execution_count": 2,
   "metadata": {},
   "outputs": [],
   "source": [
    "data_dir = 'data'\n",
    "\n",
    "vcf_name = '1kgp_data_chr22.vcf.gz'\n",
    "pop_desc_name = '20131219.populations.tsv'\n",
    "pop_file_name = 'affy_samples.20141118.panel'\n",
    "\n",
    "vcf_file = os.path.join(data_dir, vcf_name)\n",
    "population_description_file = os.path.join(data_dir, pop_desc_name)\n",
    "population_file = os.path.join(data_dir, pop_file_name)"
   ]
  },
  {
   "cell_type": "markdown",
   "metadata": {},
   "source": [
    "This function reads in genetic data from VCF files. Other libraries exist to carry this out as well."
   ]
  },
  {
   "cell_type": "code",
   "execution_count": 3,
   "metadata": {},
   "outputs": [],
   "source": [
    "# Code to read in the SNP data. Assign every SNP a value of {0,1,2} relative to reference genome.\n",
    "from collections import Counter\n",
    "\n",
    "class snp(object):\n",
    "\n",
    "    def __init__(self, line, select=False, autosome_only =True):\n",
    "        \"\"\"The initialization method takes in a line from the vcf file, as a string, \n",
    "        and records the relevant information. \n",
    "        line: a string from a vcf file\n",
    "        select: a list of positions of individuals to be analyzed, where positions run from 0 to \n",
    "        nInd-1, the number of individuals\n",
    "        \"\"\" \n",
    "        \n",
    "        split_line = line.split()  #  First break down the line into a list of each field\n",
    "        \n",
    "        self.failed = False  # A label that we will set to True if something goes wrong.\n",
    "        \n",
    "        if line.startswith('#'):\n",
    "            self.failed = True\n",
    "            self.failure_cause = \"line was a header line, not a snp\"\n",
    "            return\n",
    "        \n",
    "        if len(split_line)<=5:\n",
    "            self.failed = True\n",
    "            self.failure_cause = \"incorrectly formatted line, should have at least 5 fields \" + line\n",
    "            return\n",
    "          \n",
    "        self.chrom = split_line[0]\n",
    "        if autosome_only:\n",
    "            if self.chrom not in [\"%d\" % (i,) for i in range(1,23)]:\n",
    "                self.failed = True\n",
    "                self.failure_cause = \"not recognized as an autosome while autosome_only set to True\"\n",
    "                return\n",
    "        \n",
    "        self.chrom = int(split_line[0]) # Chromosome (numbered)\n",
    "        self.position = int(split_line[1])  # The coordinates of the snp\n",
    "        self.rid = split_line[2] # Name/Record ID\n",
    "        self.ref_allele = split_line[3]\n",
    "        self.alt_allele = split_line[4] # The alterate allele according to the vcf; also a string \n",
    "        # Only accept snps in ACGT. \n",
    "        if self.ref_allele not in [\"A\",\"C\",\"G\",\"T\"] or self.alt_allele not in [\"A\",\"C\",\"G\",\"T\"]:\n",
    "            self.failed = True\n",
    "            self.failure_cause = \"ref or alt not in ACGT\"\n",
    "            return\n",
    "        self.filter = split_line[6]  # See vcf format specifications for the interpretation of \n",
    "                                    # the filter field\n",
    "        if self.filter not in ['PASS', '.'] :  # PASS indicates a SNP that passed all QC filters.\n",
    "            self.failed = True\n",
    "            self.failure_cause = self.filter\n",
    "            return\n",
    "              \n",
    "        self.genotype_strings = split_line[9:]\n",
    "\n",
    "        # Prepare a list that will contain the transformed genotypes. \n",
    "        # Since we already know how long the list will be, it makes sense \n",
    "        # to create an array of zeros of the same length as self.gtypes, \n",
    "        \n",
    "        self.genotype_array = np.zeros(len(self.genotype_strings), dtype = np.int8)             \n",
    "\n",
    "        # Count the number of each genotype. \n",
    "        # There may be different strings giving the same genotype so we increment the \n",
    "        # counts found so far for the genotype by the number of times the  \n",
    "        # For example, \"0/0\" and \"0\\0\" give homref, and \"0|1\" and \"1|0\" give het\n",
    "        \n",
    "        n_missing = 0\n",
    "        for index,genotype_string in enumerate(self.genotype_strings):\n",
    "            if genotype_string == './.':\n",
    "                n_missing +=1 \n",
    "                self.genotype_array[index]=-1\n",
    "                continue # missing data will be left as 0\n",
    "            allele_0 = genotype_string[0] # Get the first allele (as a string)\n",
    "            allele_1 = genotype_string[2]\n",
    "            if (allele_0=='1' and allele_1=='1'): # Use rstrip because windows machines will occasionally have extra \\n\n",
    "                self.genotype_array[index]=2\n",
    "            elif ((allele_0=='0' and allele_1=='1') or (allele_0=='1' and allele_1=='0')):\n",
    "                self.genotype_array[index]=1   \n",
    "            elif (allele_0=='0' and allele_1=='0'):\n",
    "                # The array was initialized to zero, so nothing to do here!\n",
    "                continue\n",
    "            else:\n",
    "                print((\"unknown genotype\", genotype_string))\n",
    "                self.failed=True\n",
    "                self.failedreason=\"unknown genotype\"\n",
    "                return"
   ]
  },
  {
   "cell_type": "markdown",
   "metadata": {},
   "source": [
    "Read in the genetic data."
   ]
  },
  {
   "cell_type": "code",
   "execution_count": 4,
   "metadata": {},
   "outputs": [
    {
     "name": "stdout",
     "output_type": "stream",
     "text": [
      "Run time in seconds: 27.40729069709778\n"
     ]
    }
   ],
   "source": [
    "# Specify which lines to skip (value of 1 means don't skip any lines)\n",
    "number_of_lines_to_skip = 1\n",
    "\n",
    "start_time = time.time()\n",
    "\n",
    "genotype_matrix = []  # Will contain our numerical genotype matrix. \n",
    "genotype_positions = []\n",
    "genotype_names = []\n",
    "x = 0\n",
    "error_count = 0\n",
    "\n",
    "with gzip.open(vcf_file,'rt') as f:\n",
    "    count = 0\n",
    "    for line in f:\n",
    "        count+=1\n",
    "        if count % number_of_lines_to_skip == 0:\n",
    "            if line.startswith(\"#\") or snp(line).failed:\n",
    "                if snp(line).failure_cause != \"line was a header line, not a snp\":\n",
    "                    error_count += 1\n",
    "                    if x < 10:\n",
    "                        print('Failed: ' + snp(line).failure_cause)\n",
    "                        x+=1\n",
    "                continue\n",
    "            \n",
    "            return_snp = snp(line)\n",
    "            genotype_matrix.append(return_snp.genotype_array)\n",
    "            genotype_names.append(return_snp.rid)\n",
    "            genotype_positions.append([return_snp.chrom, return_snp.position])\n",
    "\n",
    "end_time = time.time()\n",
    "            \n",
    "print(\"Run time in seconds: \" + str(end_time - start_time))"
   ]
  },
  {
   "cell_type": "code",
   "execution_count": 5,
   "metadata": {},
   "outputs": [],
   "source": [
    "transposed_genotype_matrix = np.array(genotype_matrix).transpose()"
   ]
  },
  {
   "cell_type": "code",
   "execution_count": 6,
   "metadata": {},
   "outputs": [],
   "source": [
    "population_by_individual = defaultdict(int)\n",
    "individuals_by_population = defaultdict(list)  # A dictionary containing all the individuals in a given population\n",
    "indices_of_population_members = defaultdict(list)\n",
    "\n",
    "idx = 0\n",
    "\n",
    "for line in open(population_file,'r'):\n",
    "    split_line = line.split()\n",
    "    if split_line[0] == 'sample':  # header line\n",
    "        continue\n",
    "\n",
    "    sample_name = split_line[0]\n",
    "    population_name = split_line[1]\n",
    "    population_by_individual[sample_name] = population_name\n",
    "    individuals_by_population[population_name].append(sample_name) \n",
    "    indices_of_population_members[population_name].append(idx)\n",
    "    \n",
    "    idx+=1\n",
    "\n",
    "populations = list(individuals_by_population.keys())"
   ]
  },
  {
   "cell_type": "code",
   "execution_count": 7,
   "metadata": {},
   "outputs": [],
   "source": [
    "# The path to the place where you put the population name file.\n",
    "name_by_code = {}  # A dictionary giving the full name of each population code\n",
    "pop_by_continent = {}  # A dictionary giving the code of each population within a continent  \n",
    "continent_by_population = {}  # A dictionary giving the continent for each population code\n",
    "for line in open(population_description_file,'r'):\n",
    "    split_line = line.split('\\t')\n",
    "    if split_line[0] in ['Population Description','Total','']:  # header or footer\n",
    "        continue\n",
    "    name_by_code[split_line[1]] = split_line[0]\n",
    "    continent_by_population[split_line[1]] = split_line[2]\n",
    "    try: \n",
    "        pop_by_continent[split_line[2]].append(split_line[1])\n",
    "    except KeyError:\n",
    "        pop_by_continent[split_line[2]] = [split_line[1]]\n",
    "\n",
    "continents = list(pop_by_continent.keys()) \n",
    "    \n",
    "    \n",
    "# Populations listed by continent\n",
    "pops=[]\n",
    "for continent in continents:\n",
    "    pops.extend(pop_by_continent[continent])"
   ]
  },
  {
   "cell_type": "code",
   "execution_count": 8,
   "metadata": {},
   "outputs": [],
   "source": [
    "color_dict = {}\n",
    "color_dict['CDX'] = '#393b79'\n",
    "color_dict['CHB'] = '#5254a3'\n",
    "color_dict['JPT'] = '#6b6ecf'\n",
    "color_dict['KHV'] = '#9c9ede'\n",
    "color_dict['CHS'] = '#393b79'\n",
    "color_dict['BEB'] = '#637939'\n",
    "color_dict['GIH'] = '#8ca252'\n",
    "color_dict['ITU'] = '#b5cf6b'\n",
    "color_dict['PJL'] = '#cedb9c'\n",
    "color_dict['STU'] = '#637939'\n",
    "color_dict['ASW'] = '#8c6d31'\n",
    "color_dict['ACB'] = '#bd9e39'\n",
    "color_dict['ESN'] = '#e7ba52'\n",
    "color_dict['GWD'] = '#e7cb94'\n",
    "color_dict['LWK'] = '#8c6d31'\n",
    "color_dict['MSL'] = '#bd9e39'\n",
    "color_dict['YRI'] = '#e7ba52'\n",
    "color_dict['GBR'] = '#843c39'\n",
    "color_dict['FIN'] = '#ad494a'\n",
    "color_dict['IBS'] = '#d6616b'\n",
    "color_dict['TSI'] = '#e7969c'\n",
    "color_dict['CEU'] = '#843c39'\n",
    "color_dict['CLM'] = '#7b4173'\n",
    "color_dict['MXL'] = '#a55194'\n",
    "color_dict['PEL'] = '#ce6dbd'\n",
    "color_dict['PUR'] = '#de9ed6'\n",
    "color_dict['CHS'] = '#9e9ac8'\n",
    "color_dict['STU'] = '#c7e9c0'\n",
    "color_dict['LWK'] = '#7f3b08'\n",
    "color_dict['MSL'] = '#b35806'\n",
    "color_dict['YRI'] = '#e08214'\n",
    "color_dict['CEU'] = '#d6604d'"
   ]
  },
  {
   "cell_type": "markdown",
   "metadata": {},
   "source": [
    "# Dimension reduction"
   ]
  },
  {
   "cell_type": "markdown",
   "metadata": {},
   "source": [
    "## PCA"
   ]
  },
  {
   "cell_type": "markdown",
   "metadata": {},
   "source": [
    "First we generate our prinicipal component projection"
   ]
  },
  {
   "cell_type": "code",
   "execution_count": 9,
   "metadata": {},
   "outputs": [
    {
     "name": "stdout",
     "output_type": "stream",
     "text": [
      "Run time in seconds: 22.170850038528442\n"
     ]
    }
   ],
   "source": [
    "# Calculate the PC axes\n",
    "# This will take a few minutes\n",
    "start_time = time.time()\n",
    "pca_full = PCA().fit(transposed_genotype_matrix)\n",
    "end_time = time.time()\n",
    "print(\"Run time in seconds: \" + str(end_time - start_time))"
   ]
  },
  {
   "cell_type": "code",
   "execution_count": 10,
   "metadata": {},
   "outputs": [
    {
     "name": "stdout",
     "output_type": "stream",
     "text": [
      "Run time in seconds: 21.442836046218872\n"
     ]
    }
   ],
   "source": [
    "# Project onto the PC axes\n",
    "start_time = time.time()\n",
    "proj_pca = pca_full.fit_transform(transposed_genotype_matrix)\n",
    "end_time = time.time()\n",
    "print(\"Run time in seconds: \" + str(end_time - start_time))"
   ]
  },
  {
   "cell_type": "markdown",
   "metadata": {},
   "source": [
    "Note that PCA projects data to a coordinate system in which the order of dimensions corresponds to how much variance they explain. The first dimension of data that has been projected to PCA space explains the most variance, the second dimension explains the second most, and so on. The proportion of variance explained can be access here by `pca_full.explained_variance_ratio_`."
   ]
  },
  {
   "cell_type": "code",
   "execution_count": 11,
   "metadata": {},
   "outputs": [
    {
     "data": {
      "text/plain": [
       "array([1.04826526e-01, 3.99804240e-02, 1.42615646e-02, ...,\n",
       "       2.64288483e-06, 1.45392539e-06, 2.06733811e-32])"
      ]
     },
     "execution_count": 11,
     "metadata": {},
     "output_type": "execute_result"
    }
   ],
   "source": [
    "pca_full.explained_variance_ratio_"
   ]
  },
  {
   "cell_type": "markdown",
   "metadata": {},
   "source": [
    "Plotting the top 25 PCs, we see the first PC here explains around 10\\% of the variance, the second around 4\\%, the next two around 1\\%, and the rest closer to 0\\%. There is a very quick drop off."
   ]
  },
  {
   "cell_type": "code",
   "execution_count": 12,
   "metadata": {},
   "outputs": [
    {
     "data": {
      "text/plain": [
       "Text(0, 0.5, 'Percent of variance explained')"
      ]
     },
     "execution_count": 12,
     "metadata": {},
     "output_type": "execute_result"
    },
    {
     "data": {
      "image/png": "[encoded data removed]",
      "text/plain": [
       "<Figure size 432x288 with 1 Axes>"
      ]
     },
     "metadata": {
      "needs_background": "light"
     },
     "output_type": "display_data"
    }
   ],
   "source": [
    "plt.plot(pca_full.explained_variance_ratio_[:25]*100, 'o--')\n",
    "plt.xlabel('PC dimension')\n",
    "plt.ylabel('Percent of variance explained')"
   ]
  },
  {
   "cell_type": "markdown",
   "metadata": {},
   "source": [
    "## t-SNE and UMAP"
   ]
  },
  {
   "cell_type": "markdown",
   "metadata": {},
   "source": [
    "The following code uses non-PCA methods. We explore t-SNE and UMAP specifically. For t-SNE you can work in 2 or 3 dimensions. You can also specify a variety of hyperparameters (e.g. perplexity to control \"tightness\" of clusters) but the defaults are sufficient for our purposes."
   ]
  },
  {
   "cell_type": "code",
   "execution_count": 13,
   "metadata": {},
   "outputs": [
    {
     "name": "stdout",
     "output_type": "stream",
     "text": [
      "Run time in seconds: 194.24616312980652\n"
     ]
    }
   ],
   "source": [
    "# Project the genotype data matrix to two dimensions via t-SNE. This may take several minutes to run.\n",
    "start_time = time.time()\n",
    "proj_tsne_gt = TSNE(n_components = 2).fit_transform(transposed_genotype_matrix)\n",
    "end_time = time.time()\n",
    "print(\"Run time in seconds: \" + str(end_time - start_time))"
   ]
  },
  {
   "cell_type": "markdown",
   "metadata": {},
   "source": [
    "UMAP can project to an arbitrary number of dimensions, but for visualizations we stick to 2. Three-dimensional projections can be interesting too though! The developers recommend using parameter values of 5 to 50 neighbours and a minimum distance between 0.001 and 0.5. We use the default number of neighbours (15) and a minimum distance of 0.5 for clarity in visualizations."
   ]
  },
  {
   "cell_type": "code",
   "execution_count": 14,
   "metadata": {},
   "outputs": [
    {
     "name": "stdout",
     "output_type": "stream",
     "text": [
      "Run time in seconds: 12.47918701171875\n"
     ]
    }
   ],
   "source": [
    "# Project the genotype data matrix to two dimensions via UMAP\n",
    "start_time = time.time()\n",
    "proj_umap_gt = umap.UMAP(n_components=2, n_neighbors=15, min_dist=0.5).fit_transform(transposed_genotype_matrix)\n",
    "end_time = time.time()\n",
    "print(\"Run time in seconds: \" + str(end_time - start_time))"
   ]
  },
  {
   "cell_type": "markdown",
   "metadata": {},
   "source": [
    "We can also use PCA to pre-process data and reduce the computational load. This is very useful when you have thousands or millions of dimensions, but keep in mind that there could end up being differences between a projection based on the full data and a projection based on the top PCs (Diaz-Papkovich 2019)."
   ]
  },
  {
   "cell_type": "code",
   "execution_count": 15,
   "metadata": {},
   "outputs": [],
   "source": [
    "# Number of principal components to use\n",
    "n_pc = 5"
   ]
  },
  {
   "cell_type": "code",
   "execution_count": 16,
   "metadata": {},
   "outputs": [],
   "source": [
    "# Project the principal components via UMAP to 2 dimensions.\n",
    "proj_umap_pca = umap.UMAP(n_components=2, n_neighbors=15, min_dist=0.5).fit_transform(proj_pca[:,:n_pc])"
   ]
  },
  {
   "cell_type": "markdown",
   "metadata": {},
   "source": [
    "# Visualization\n",
    "\n",
    "In this section we will generate interactive HTML files that let you select or deselect ethnicities in the projections. You can use the save() command to create a file without viewing it or the show() command to create and open the file. By default, the files will be created in the directory of this notebook.\n",
    "\n",
    "The three variables to select are the projection to use and the two dimensions you would like to plot against each other. By default we use dimensions 1 and 2 (indexed as 0 and 1 in Python). In PCA we have many dimensions to work with but it can be interesting to look at, say, dimensions 4 vs 1 or 3 vs 2. Our t-SNE and UMAP projections are only 2D so if you want to go into higher dimensions you'll have to specify that and re-run the code. t-SNE only projects to at most 3 dimensions. UMAP projects to an arbitrary number of dimensions.\n",
    "\n",
    "Note: The HTML files will be 800 high by 1350 wide - you may need to change this to fit into your screen. Otherwise, you can use your browser's native zoom/view options to make things fit."
   ]
  },
  {
   "cell_type": "code",
   "execution_count": 17,
   "metadata": {},
   "outputs": [],
   "source": [
    "# Import plotly\n",
    "import plotly\n",
    "import plotly.graph_objs as go\n",
    "from plotly.graph_objs import Scatter, Layout"
   ]
  },
  {
   "cell_type": "code",
   "execution_count": 18,
   "metadata": {},
   "outputs": [
    {
     "data": {
      "text/plain": [
       "'thousand_genomes_chr22_pc1and2.html'"
      ]
     },
     "execution_count": 18,
     "metadata": {},
     "output_type": "execute_result"
    }
   ],
   "source": [
    "# We would like to use the top 2 PCs. In this case, they are indexed as 0 and 1 in the array proj_pca\n",
    "in_data = proj_pca\n",
    "dim1 = 0\n",
    "dim2 = 1\n",
    "\n",
    "traces = []\n",
    "\n",
    "for cont in continents:\n",
    "    for pop in pop_by_continent[cont]:\n",
    "        proj_subset = in_data[indices_of_population_members[pop]]\n",
    "\n",
    "        # Convert the colour string from hex \"#xxxxxx\" to \"(r,g,b)\"\n",
    "        color_string = str(int('0x' + color_dict[pop][1:3].upper(),16)) + ',' + \\\n",
    "        str(int('0x' + color_dict[pop][3:5].upper(),16)) + ',' + \\\n",
    "        str(int('0x' + color_dict[pop][5:7].upper(),16))\n",
    "        \n",
    "        temp_trace = go.Scattergl(\n",
    "            x=proj_subset[:,0],\n",
    "            y=proj_subset[:,1],\n",
    "            name=name_by_code[pop],\n",
    "            mode='markers',\n",
    "            marker=dict(\n",
    "                size=2,\n",
    "                color='rgba('+color_string+',0.9)',\n",
    "                line=dict(\n",
    "                    color='rgb('+color_string+')',\n",
    "                    width=2\n",
    "                )\n",
    "            )\n",
    "        )\n",
    "        traces.append(temp_trace)\n",
    "        \n",
    "layout = go.Layout(\n",
    "    margin=dict(\n",
    "        l=0,\n",
    "        r=0,\n",
    "        b=0,\n",
    "        t=0\n",
    "    )\n",
    ")\n",
    "\n",
    "fig = go.Figure(data=traces, layout=layout)\n",
    "plotly.offline.plot(fig, filename='thousand_genomes_chr22_pc1and2.html')"
   ]
  },
  {
   "cell_type": "code",
   "execution_count": 19,
   "metadata": {
    "scrolled": true
   },
   "outputs": [
    {
     "data": {
      "text/plain": [
       "'thousand_genomes_chr22_tsne1and2.html'"
      ]
     },
     "execution_count": 19,
     "metadata": {},
     "output_type": "execute_result"
    }
   ],
   "source": [
    "# Look at the t-SNE projection\n",
    "in_data = proj_tsne_gt\n",
    "dim1 = 0\n",
    "dim2 = 1\n",
    "\n",
    "traces = []\n",
    "\n",
    "for cont in continents:\n",
    "    for pop in pop_by_continent[cont]:\n",
    "        proj_subset = in_data[indices_of_population_members[pop]]\n",
    "\n",
    "        # Convert the colour string from hex \"#xxxxxx\" to \"(r,g,b)\"\n",
    "        color_string = str(int('0x' + color_dict[pop][1:3].upper(),16)) + ',' + \\\n",
    "        str(int('0x' + color_dict[pop][3:5].upper(),16)) + ',' + \\\n",
    "        str(int('0x' + color_dict[pop][5:7].upper(),16))\n",
    "        \n",
    "        temp_trace = go.Scattergl(\n",
    "            x=proj_subset[:,0],\n",
    "            y=proj_subset[:,1],\n",
    "            name=name_by_code[pop],\n",
    "            mode='markers',\n",
    "            marker=dict(\n",
    "                size=2,\n",
    "                color='rgba('+color_string+',0.9)',\n",
    "                line=dict(\n",
    "                    color='rgb('+color_string+')',\n",
    "                    width=2\n",
    "                )\n",
    "            )\n",
    "        )\n",
    "        traces.append(temp_trace)\n",
    "        \n",
    "layout = go.Layout(\n",
    "    margin=dict(\n",
    "        l=0,\n",
    "        r=0,\n",
    "        b=0,\n",
    "        t=0\n",
    "    )\n",
    ")\n",
    "\n",
    "fig = go.Figure(data=traces, layout=layout)\n",
    "plotly.offline.plot(fig, filename='thousand_genomes_chr22_tsne1and2.html')"
   ]
  },
  {
   "cell_type": "code",
   "execution_count": 20,
   "metadata": {},
   "outputs": [
    {
     "data": {
      "text/plain": [
       "'thousand_genomes_chr22_umap1and2.html'"
      ]
     },
     "execution_count": 20,
     "metadata": {},
     "output_type": "execute_result"
    }
   ],
   "source": [
    "# Look at the UMAP projection\n",
    "in_data = proj_umap_gt\n",
    "dim1 = 0\n",
    "dim2 = 1\n",
    "\n",
    "traces = []\n",
    "\n",
    "for cont in continents:\n",
    "    for pop in pop_by_continent[cont]:\n",
    "        proj_subset = in_data[indices_of_population_members[pop]]\n",
    "\n",
    "        # Convert the colour string from hex \"#xxxxxx\" to \"(r,g,b)\"\n",
    "        color_string = str(int('0x' + color_dict[pop][1:3].upper(),16)) + ',' + \\\n",
    "        str(int('0x' + color_dict[pop][3:5].upper(),16)) + ',' + \\\n",
    "        str(int('0x' + color_dict[pop][5:7].upper(),16))\n",
    "        \n",
    "        temp_trace = go.Scattergl(\n",
    "            x=proj_subset[:,0],\n",
    "            y=proj_subset[:,1],\n",
    "            name=name_by_code[pop],\n",
    "            mode='markers',\n",
    "            marker=dict(\n",
    "                size=2,\n",
    "                color='rgba('+color_string+',0.9)',\n",
    "                line=dict(\n",
    "                    color='rgb('+color_string+')',\n",
    "                    width=2\n",
    "                )\n",
    "            )\n",
    "        )\n",
    "        traces.append(temp_trace)\n",
    "        \n",
    "layout = go.Layout(\n",
    "    margin=dict(\n",
    "        l=0,\n",
    "        r=0,\n",
    "        b=0,\n",
    "        t=0\n",
    "    )\n",
    ")\n",
    "\n",
    "fig = go.Figure(data=traces, layout=layout)\n",
    "plotly.offline.plot(fig, filename='thousand_genomes_chr22_umap1and2.html')"
   ]
  },
  {
   "cell_type": "code",
   "execution_count": 21,
   "metadata": {},
   "outputs": [
    {
     "data": {
      "text/plain": [
       "'thousand_genomes_chr22_umap_on_pca_1and2.html'"
      ]
     },
     "execution_count": 21,
     "metadata": {},
     "output_type": "execute_result"
    }
   ],
   "source": [
    "# Look at the UMAP projection of the top PCs\n",
    "in_data = proj_umap_pca\n",
    "dim1 = 0\n",
    "dim2 = 1\n",
    "\n",
    "traces = []\n",
    "\n",
    "for cont in continents:\n",
    "    for pop in pop_by_continent[cont]:\n",
    "        proj_subset = in_data[indices_of_population_members[pop]]\n",
    "\n",
    "        # Convert the colour string from hex \"#xxxxxx\" to \"(r,g,b)\"\n",
    "        color_string = str(int('0x' + color_dict[pop][1:3].upper(),16)) + ',' + \\\n",
    "        str(int('0x' + color_dict[pop][3:5].upper(),16)) + ',' + \\\n",
    "        str(int('0x' + color_dict[pop][5:7].upper(),16))\n",
    "        \n",
    "        temp_trace = go.Scattergl(\n",
    "            x=proj_subset[:,0],\n",
    "            y=proj_subset[:,1],\n",
    "            name=name_by_code[pop],\n",
    "            mode='markers',\n",
    "            marker=dict(\n",
    "                size=2,\n",
    "                color='rgba('+color_string+',0.9)',\n",
    "                line=dict(\n",
    "                    color='rgb('+color_string+')',\n",
    "                    width=2\n",
    "                )\n",
    "            )\n",
    "        )\n",
    "        traces.append(temp_trace)\n",
    "        \n",
    "layout = go.Layout(\n",
    "    margin=dict(\n",
    "        l=0,\n",
    "        r=0,\n",
    "        b=0,\n",
    "        t=0\n",
    "    )\n",
    ")\n",
    "\n",
    "fig = go.Figure(data=traces, layout=layout)\n",
    "plotly.offline.plot(fig, filename='thousand_genomes_chr22_umap_on_pca_1and2.html')"
   ]
  },
  {
   "cell_type": "markdown",
   "metadata": {},
   "source": [
    "## Discussion\n",
    "\n",
    "We can see patterns related to ancestry and genetic data. Different dimension reduction methods, inputs, and assumptions will give different results.\n",
    "\n",
    "Methods like PCA project data to a lower dimensional coordinate plane, ordered in such a way that the first few dimensions explain the most variance. In this case, the top two PCs reflect relationships with continental ancestry, which tends to explain the most variance between populations. Geography is often significantly correlated with ancestry because people tend to find mates who live near them. South Asian individuals fall primarily along a third axis, which is lost when looking at the top two dimensions alone. Individuals with more recently admixed ancestries, such as Central and South Americans, tend to fall in between continental populations because PCA prioritizes maintaining these global distances between, e.g., individuals who have mostly African ancestry versus those who have mostly European ancestry.\n",
    "\n",
    "Methods like UMAP, on the other hand, work by finding the nearest genetic neighbours and preserving these local neighbourhoods rather than maintaining global distances. This results in a stronger clustering effect with fewer individuals falling \"in between\", and populations (such as those from South Asia) now appear more distinctly. However, the global distances between different clusters are not meaningful, and these clusterings are sensitive to parameter selection. Selecting a very small number of neighbours will result in many small clusters (often families or cousins), while selecting a very large number will result in larger clusters with sub-clusters visible.\n",
    "\n",
    "These methods are a good way to examine your data for visualizing different levels of population structure and finding  technical artefacts. It is important to look thoroughly at many aspects of your data, incorporating different parameterizations of different methods. Even here, individuals may fall in one cluster in one visualization and in a different one when using a different approach, so you should be aware that your results will be sensitive to your inputs. The type of data you use (e.g. structural variants, genotype, whole genome, exome, HLA regions, etc.) will result in different visualizations, as will different parameterizations (e.g. number of neighbours or type of distance). While these visualizations are very useful and interesting, one should never rely on visualizations alone to derive conclusions."
   ]
  },
  {
   "cell_type": "markdown",
   "metadata": {},
   "source": [
    "## Acknowledgements\n",
    "\n",
    "This notebook incorporates some code written by Simon Gravel.\n",
    "\n",
    "### References\n",
    "\n",
    "* Diaz-Papkovich, Alex, Luke Anderson-Trocmé, Chief Ben-Eghan, and Simon Gravel. \"UMAP reveals cryptic population structure and phenotype heterogeneity in large genomic cohorts.\" PLoS genetics 15.11 (2019).\n",
    "* Patterson, Nick, Alkes L. Price, and David Reich. \"Population structure and eigenanalysis.\" PLoS genetics 2.12 (2006)."
   ]
  },
  {
   "cell_type": "code",
   "execution_count": null,
   "metadata": {},
   "outputs": [],
   "source": []
  }
 ],
 "metadata": {
  "kernelspec": {
   "display_name": "Python 3",
   "language": "python",
   "name": "python3"
  },
  "language_info": {
   "codemirror_mode": {
    "name": "ipython",
    "version": 3
   },
   "file_extension": ".py",
   "mimetype": "text/x-python",
   "name": "python",
   "nbconvert_exporter": "python",
   "pygments_lexer": "ipython3",
   "version": "3.6.10"
  }
 },
 "nbformat": 4,
 "nbformat_minor": 2
}
