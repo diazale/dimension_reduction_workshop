{
 "cells": [
  {
   "cell_type": "markdown",
   "metadata": {},
   "source": [
    "# Dimension reduction: an introduction"
   ]
  },
  {
   "cell_type": "markdown",
   "metadata": {},
   "source": [
    "## Overview of the concept\n",
    "* What is it and why do we do it?\n",
    "  * Pre-processing, visualization, genomic controls\n",
    "* Curse of dimensionality\n",
    "  * A good problem to have! But tough to figure out at times\n",
    "* The concept of distance\n",
    "  * Not just Euclidean -- e.g. look at phylogentic distance, linguistic distance, etc\n",
    "* Common methods\n",
    "  * Many methods exist, usually just through acronyms\n",
    "  \n",
    "### What is the mathematical basis\n",
    "...linear algebra goes here?\n",
    "\n",
    "### Examples of common uses in scientific literature\n",
    "\n",
    "### Visualizations"
   ]
  },
  {
   "cell_type": "markdown",
   "metadata": {},
   "source": [
    "## Common methods\n",
    "\n",
    "Many methods exist. Why do we use some in particular? Why choose one over another?"
   ]
  },
  {
   "cell_type": "markdown",
   "metadata": {},
   "source": [
    "### Principal component analysis (PCA)"
   ]
  },
  {
   "cell_type": "markdown",
   "metadata": {},
   "source": [
    "### Multidimensional scaling (MDS)"
   ]
  },
  {
   "cell_type": "markdown",
   "metadata": {},
   "source": [
    "### t-distributed stochastic neighbour embedding (t-SNE)"
   ]
  },
  {
   "cell_type": "markdown",
   "metadata": {},
   "source": [
    "### Uniform manifold approximation and projection (UMAP)"
   ]
  },
  {
   "cell_type": "markdown",
   "metadata": {},
   "source": [
    "### Others\n",
    "* CCA, PHATE, etc\n",
    "* Not necessarily as commonly used, but common in certain areas"
   ]
  },
  {
   "cell_type": "markdown",
   "metadata": {},
   "source": [
    "## Visualization\n",
    "* Single-cell sequencing\n",
    "* Genotype data\n",
    "* Other publicly available data\n",
    "* General rules for plotting and visualization"
   ]
  },
  {
   "cell_type": "markdown",
   "metadata": {},
   "source": [
    "## Downstream analysis\n",
    "* Clustering (HDBSCAN, linear discriminant analysis)\n",
    "* Regression, gene enrichment analysis"
   ]
  },
  {
   "cell_type": "code",
   "execution_count": null,
   "metadata": {},
   "outputs": [],
   "source": []
  }
 ],
 "metadata": {
  "kernelspec": {
   "display_name": "Python 3",
   "language": "python",
   "name": "python3"
  },
  "language_info": {
   "codemirror_mode": {
    "name": "ipython",
    "version": 3
   },
   "file_extension": ".py",
   "mimetype": "text/x-python",
   "name": "python",
   "nbconvert_exporter": "python",
   "pygments_lexer": "ipython3",
   "version": "3.6.8"
  }
 },
 "nbformat": 4,
 "nbformat_minor": 2
}
